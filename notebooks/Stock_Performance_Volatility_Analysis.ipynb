{
 "cells": [
  {
   "cell_type": "markdown",
   "id": "ae3e5277-1085-4e1a-91c3-0ce51073546e",
   "metadata": {},
   "source": [
    "# Stock Performance & Volatility Analysis\n",
    "*Author: Cody Stuerman*"
   ]
  },
  {
   "cell_type": "markdown",
   "id": "0b7f5d46-3868-4d4d-877c-652f0297b0fb",
   "metadata": {},
   "source": [
    "## 1. Project Overview\n",
    "\n",
    "**Objective:**\n",
    "To analyze the historical stock performance and volatility of selected companies across different sectors.\n",
    "\n",
    "**Stocks analyzed:**\n",
    "YUM, BAC, GE, XOM, PFE\n",
    "\n",
    "**Time period:**\n",
    "January 1, 2020 to December 31, 2024\n",
    "\n",
    "**Key questions:**\n",
    "- Which stock had the highest average return?\n",
    "- Which sector showed the most volatility?\n",
    "- How did different stocks perform during major events like COVID-19"
   ]
  },
  {
   "cell_type": "markdown",
   "id": "d3f6240d-8058-4249-ad11-abb83cf4528d",
   "metadata": {},
   "source": [
    "## 2. Data Collection & Preparation\n",
    "\n",
    "### 2.1 Import Libraries  \n",
    "We will import essential Python libraries needed for data handling and visualization.\n",
    "\n",
    "### 2.2 Load Data  \n",
    "We will load the cleaned stock data from the prepared CSV file into a Pandas Dataframe for analysis\n",
    "\n",
    "### 2.3 Data Cleaning  \n",
    "We will:\n",
    " - Check for missing values\n",
    " - Ensure correct data types.\n",
    " - Verify calculated columns ('Daily_Return', and 'Volatility') are present and correct."
   ]
  },
  {
   "cell_type": "code",
   "execution_count": 13,
   "id": "5013f923-8c03-4054-804d-18a3c074a38c",
   "metadata": {},
   "outputs": [],
   "source": [
    "import pandas as pd\n",
    "import matplotlib.pyplot as plt\n",
    "import seaborn as sns"
   ]
  },
  {
   "cell_type": "code",
   "execution_count": 14,
   "id": "535c3378-a0ca-4a66-b8c4-1f0cc06d34a7",
   "metadata": {},
   "outputs": [
    {
     "name": "stdout",
     "output_type": "stream",
     "text": [
      "<class 'pandas.core.frame.DataFrame'>\n",
      "RangeIndex: 6285 entries, 0 to 6284\n",
      "Data columns (total 11 columns):\n",
      " #   Column        Non-Null Count  Dtype  \n",
      "---  ------        --------------  -----  \n",
      " 0   Date          6285 non-null   object \n",
      " 1   Ticker        6285 non-null   object \n",
      " 2   Sector        6285 non-null   object \n",
      " 3   Open          6285 non-null   float64\n",
      " 4   High          6285 non-null   float64\n",
      " 5   Low           6285 non-null   float64\n",
      " 6   Close         6285 non-null   float64\n",
      " 7   Adj Close     6285 non-null   float64\n",
      " 8   Volume        6285 non-null   int64  \n",
      " 9   Daily_Return  6285 non-null   float64\n",
      " 10  Volatility    6190 non-null   float64\n",
      "dtypes: float64(7), int64(1), object(3)\n",
      "memory usage: 540.2+ KB\n"
     ]
    }
   ],
   "source": [
    "df = pd.read_csv(r'C:\\Users\\Stuer\\OneDrive\\Professional\\Stock_Performance_Volatility_Analysis\\data\\cleaned\\clean_stock_data.csv')\n",
    "df.head()\n",
    "df.info()"
   ]
  },
  {
   "cell_type": "markdown",
   "id": "5be6972b-4ad5-4c32-85c1-3e8bf945d389",
   "metadata": {},
   "source": [
    "After cleaning:\n",
    "- `Date` column is currently object and will be converted to datetime.\n",
    "- `Volatility` has 95 missing values (expected due to rolling calculation).\n",
    "- All other columns have no missing data.\n",
    "- Calculated columns (`Daily_Return`, `Volatility`) are present.\n"
   ]
  },
  {
   "cell_type": "code",
   "execution_count": 16,
   "id": "b42716a0-6d6e-4f89-8148-9d72ac592b1d",
   "metadata": {},
   "outputs": [
    {
     "name": "stdout",
     "output_type": "stream",
     "text": [
      "<class 'pandas.core.frame.DataFrame'>\n",
      "RangeIndex: 6285 entries, 0 to 6284\n",
      "Data columns (total 11 columns):\n",
      " #   Column        Non-Null Count  Dtype         \n",
      "---  ------        --------------  -----         \n",
      " 0   Date          6285 non-null   datetime64[ns]\n",
      " 1   Ticker        6285 non-null   object        \n",
      " 2   Sector        6285 non-null   object        \n",
      " 3   Open          6285 non-null   float64       \n",
      " 4   High          6285 non-null   float64       \n",
      " 5   Low           6285 non-null   float64       \n",
      " 6   Close         6285 non-null   float64       \n",
      " 7   Adj Close     6285 non-null   float64       \n",
      " 8   Volume        6285 non-null   int64         \n",
      " 9   Daily_Return  6285 non-null   float64       \n",
      " 10  Volatility    6190 non-null   float64       \n",
      "dtypes: datetime64[ns](1), float64(7), int64(1), object(2)\n",
      "memory usage: 540.2+ KB\n"
     ]
    },
    {
     "data": {
      "text/plain": [
       "Date             0\n",
       "Ticker           0\n",
       "Sector           0\n",
       "Open             0\n",
       "High             0\n",
       "Low              0\n",
       "Close            0\n",
       "Adj Close        0\n",
       "Volume           0\n",
       "Daily_Return     0\n",
       "Volatility      95\n",
       "dtype: int64"
      ]
     },
     "execution_count": 16,
     "metadata": {},
     "output_type": "execute_result"
    }
   ],
   "source": [
    "# Convert date to datetime\n",
    "df['Date'] = pd.to_datetime(df['Date'])\n",
    "\n",
    "# Confirm data types after conversion\n",
    "df.info()\n",
    "\n",
    "# Check missing values  (should be only in Volatility)\n",
    "df.isnull().sum()"
   ]
  },
  {
   "cell_type": "markdown",
   "id": "d7824e29-9c1d-46f9-87c1-b6f6adbf010f",
   "metadata": {},
   "source": [
    "## 3. Exploratory Data Analysis (EDA)\n",
    "\n",
    "### 3.1 Data Overview  \n",
    "We will:\n",
    "- Preview the dataset with .head().\n",
    "- Confirm columns, data types, and structure with .info().\n",
    "- Check basic descriptive statistics with .describe().\n",
    "- Verify the stocks ('Ticker') and sectors included.\n",
    "- Confirm the date range of the data.\n",
    "\n",
    "### 3.2 Missing Value Check  \n",
    "We will:\n",
    "- Review missing values in each column.\n",
    "- Focus on confirming that missing data is only in 'Volatility'.\n",
    "- Determine if any action like drop or fill is needed.\n",
    "\n",
    "### 3.3 Basic Statistical Summary \n",
    "We will:\n",
    "- Aggregate key metrics such as average daily return and average volatility.\n",
    "- Group by sector and ticker to compare performance and risk.\n",
    "\n",
    "### 3.4 Initial Insights  \n",
    "We will:\n",
    "- Document initial observations and patterns found during the overview and basic statistics.\n",
    "- Highlight standout stocks, sectors, or unusual data points.\n"
   ]
  },
  {
   "cell_type": "code",
   "execution_count": 18,
   "id": "48cd8625-7043-439d-b0a7-88858750ab0a",
   "metadata": {},
   "outputs": [
    {
     "data": {
      "text/html": [
       "<div>\n",
       "<style scoped>\n",
       "    .dataframe tbody tr th:only-of-type {\n",
       "        vertical-align: middle;\n",
       "    }\n",
       "\n",
       "    .dataframe tbody tr th {\n",
       "        vertical-align: top;\n",
       "    }\n",
       "\n",
       "    .dataframe thead th {\n",
       "        text-align: right;\n",
       "    }\n",
       "</style>\n",
       "<table border=\"1\" class=\"dataframe\">\n",
       "  <thead>\n",
       "    <tr style=\"text-align: right;\">\n",
       "      <th></th>\n",
       "      <th>Date</th>\n",
       "      <th>Ticker</th>\n",
       "      <th>Sector</th>\n",
       "      <th>Open</th>\n",
       "      <th>High</th>\n",
       "      <th>Low</th>\n",
       "      <th>Close</th>\n",
       "      <th>Adj Close</th>\n",
       "      <th>Volume</th>\n",
       "      <th>Daily_Return</th>\n",
       "      <th>Volatility</th>\n",
       "    </tr>\n",
       "  </thead>\n",
       "  <tbody>\n",
       "    <tr>\n",
       "      <th>0</th>\n",
       "      <td>2020-01-02</td>\n",
       "      <td>YUM</td>\n",
       "      <td>Consumer Discretionary</td>\n",
       "      <td>100.900002</td>\n",
       "      <td>102.190002</td>\n",
       "      <td>100.809998</td>\n",
       "      <td>102.169998</td>\n",
       "      <td>92.652504</td>\n",
       "      <td>1369900</td>\n",
       "      <td>0.012587</td>\n",
       "      <td>NaN</td>\n",
       "    </tr>\n",
       "    <tr>\n",
       "      <th>1</th>\n",
       "      <td>2020-01-03</td>\n",
       "      <td>YUM</td>\n",
       "      <td>Consumer Discretionary</td>\n",
       "      <td>101.419998</td>\n",
       "      <td>102.010002</td>\n",
       "      <td>100.360001</td>\n",
       "      <td>101.849998</td>\n",
       "      <td>92.362297</td>\n",
       "      <td>1145500</td>\n",
       "      <td>0.004240</td>\n",
       "      <td>NaN</td>\n",
       "    </tr>\n",
       "    <tr>\n",
       "      <th>2</th>\n",
       "      <td>2020-01-06</td>\n",
       "      <td>YUM</td>\n",
       "      <td>Consumer Discretionary</td>\n",
       "      <td>101.430000</td>\n",
       "      <td>101.800003</td>\n",
       "      <td>101.059998</td>\n",
       "      <td>101.790001</td>\n",
       "      <td>92.307907</td>\n",
       "      <td>1454100</td>\n",
       "      <td>0.003549</td>\n",
       "      <td>NaN</td>\n",
       "    </tr>\n",
       "    <tr>\n",
       "      <th>3</th>\n",
       "      <td>2020-01-07</td>\n",
       "      <td>YUM</td>\n",
       "      <td>Consumer Discretionary</td>\n",
       "      <td>101.750000</td>\n",
       "      <td>102.239998</td>\n",
       "      <td>101.540001</td>\n",
       "      <td>101.970001</td>\n",
       "      <td>92.471130</td>\n",
       "      <td>1388600</td>\n",
       "      <td>0.002162</td>\n",
       "      <td>NaN</td>\n",
       "    </tr>\n",
       "    <tr>\n",
       "      <th>4</th>\n",
       "      <td>2020-01-08</td>\n",
       "      <td>YUM</td>\n",
       "      <td>Consumer Discretionary</td>\n",
       "      <td>100.470001</td>\n",
       "      <td>102.980003</td>\n",
       "      <td>100.339996</td>\n",
       "      <td>102.150002</td>\n",
       "      <td>92.634354</td>\n",
       "      <td>1521500</td>\n",
       "      <td>0.016721</td>\n",
       "      <td>NaN</td>\n",
       "    </tr>\n",
       "  </tbody>\n",
       "</table>\n",
       "</div>"
      ],
      "text/plain": [
       "        Date Ticker                  Sector        Open        High  \\\n",
       "0 2020-01-02    YUM  Consumer Discretionary  100.900002  102.190002   \n",
       "1 2020-01-03    YUM  Consumer Discretionary  101.419998  102.010002   \n",
       "2 2020-01-06    YUM  Consumer Discretionary  101.430000  101.800003   \n",
       "3 2020-01-07    YUM  Consumer Discretionary  101.750000  102.239998   \n",
       "4 2020-01-08    YUM  Consumer Discretionary  100.470001  102.980003   \n",
       "\n",
       "          Low       Close  Adj Close   Volume  Daily_Return  Volatility  \n",
       "0  100.809998  102.169998  92.652504  1369900      0.012587         NaN  \n",
       "1  100.360001  101.849998  92.362297  1145500      0.004240         NaN  \n",
       "2  101.059998  101.790001  92.307907  1454100      0.003549         NaN  \n",
       "3  101.540001  101.970001  92.471130  1388600      0.002162         NaN  \n",
       "4  100.339996  102.150002  92.634354  1521500      0.016721         NaN  "
      ]
     },
     "execution_count": 18,
     "metadata": {},
     "output_type": "execute_result"
    }
   ],
   "source": [
    "# Preview the first 5 rows of the dataset\n",
    "df.head()"
   ]
  },
  {
   "cell_type": "code",
   "execution_count": 19,
   "id": "e94250ea-f286-46a8-a943-c40a1426ea9a",
   "metadata": {},
   "outputs": [
    {
     "name": "stdout",
     "output_type": "stream",
     "text": [
      "<class 'pandas.core.frame.DataFrame'>\n",
      "RangeIndex: 6285 entries, 0 to 6284\n",
      "Data columns (total 11 columns):\n",
      " #   Column        Non-Null Count  Dtype         \n",
      "---  ------        --------------  -----         \n",
      " 0   Date          6285 non-null   datetime64[ns]\n",
      " 1   Ticker        6285 non-null   object        \n",
      " 2   Sector        6285 non-null   object        \n",
      " 3   Open          6285 non-null   float64       \n",
      " 4   High          6285 non-null   float64       \n",
      " 5   Low           6285 non-null   float64       \n",
      " 6   Close         6285 non-null   float64       \n",
      " 7   Adj Close     6285 non-null   float64       \n",
      " 8   Volume        6285 non-null   int64         \n",
      " 9   Daily_Return  6285 non-null   float64       \n",
      " 10  Volatility    6190 non-null   float64       \n",
      "dtypes: datetime64[ns](1), float64(7), int64(1), object(2)\n",
      "memory usage: 540.2+ KB\n"
     ]
    }
   ],
   "source": [
    "# Check columns, data types, and structure\n",
    "df.info()"
   ]
  },
  {
   "cell_type": "code",
   "execution_count": 20,
   "id": "22bff297-0d19-4e48-80ab-cf5d34dae399",
   "metadata": {},
   "outputs": [
    {
     "data": {
      "text/html": [
       "<div>\n",
       "<style scoped>\n",
       "    .dataframe tbody tr th:only-of-type {\n",
       "        vertical-align: middle;\n",
       "    }\n",
       "\n",
       "    .dataframe tbody tr th {\n",
       "        vertical-align: top;\n",
       "    }\n",
       "\n",
       "    .dataframe thead th {\n",
       "        text-align: right;\n",
       "    }\n",
       "</style>\n",
       "<table border=\"1\" class=\"dataframe\">\n",
       "  <thead>\n",
       "    <tr style=\"text-align: right;\">\n",
       "      <th></th>\n",
       "      <th>Date</th>\n",
       "      <th>Open</th>\n",
       "      <th>High</th>\n",
       "      <th>Low</th>\n",
       "      <th>Close</th>\n",
       "      <th>Adj Close</th>\n",
       "      <th>Volume</th>\n",
       "      <th>Daily_Return</th>\n",
       "      <th>Volatility</th>\n",
       "    </tr>\n",
       "  </thead>\n",
       "  <tbody>\n",
       "    <tr>\n",
       "      <th>count</th>\n",
       "      <td>6285</td>\n",
       "      <td>6285.000000</td>\n",
       "      <td>6285.000000</td>\n",
       "      <td>6285.000000</td>\n",
       "      <td>6285.000000</td>\n",
       "      <td>6285.000000</td>\n",
       "      <td>6.285000e+03</td>\n",
       "      <td>6285.000000</td>\n",
       "      <td>6190.000000</td>\n",
       "    </tr>\n",
       "    <tr>\n",
       "      <th>mean</th>\n",
       "      <td>2022-06-30 22:13:27.637231616</td>\n",
       "      <td>70.859646</td>\n",
       "      <td>71.633860</td>\n",
       "      <td>70.083927</td>\n",
       "      <td>70.862243</td>\n",
       "      <td>66.780416</td>\n",
       "      <td>2.342256e+07</td>\n",
       "      <td>0.000011</td>\n",
       "      <td>0.014758</td>\n",
       "    </tr>\n",
       "    <tr>\n",
       "      <th>min</th>\n",
       "      <td>2020-01-02 00:00:00</td>\n",
       "      <td>19.260000</td>\n",
       "      <td>19.670000</td>\n",
       "      <td>17.950001</td>\n",
       "      <td>18.080000</td>\n",
       "      <td>15.967170</td>\n",
       "      <td>3.404000e+05</td>\n",
       "      <td>-0.096048</td>\n",
       "      <td>0.005098</td>\n",
       "    </tr>\n",
       "    <tr>\n",
       "      <th>25%</th>\n",
       "      <td>2021-04-01 00:00:00</td>\n",
       "      <td>36.736244</td>\n",
       "      <td>37.096775</td>\n",
       "      <td>36.200001</td>\n",
       "      <td>36.660000</td>\n",
       "      <td>33.069237</td>\n",
       "      <td>6.228788e+06</td>\n",
       "      <td>-0.008519</td>\n",
       "      <td>0.010613</td>\n",
       "    </tr>\n",
       "    <tr>\n",
       "      <th>50%</th>\n",
       "      <td>2022-06-30 00:00:00</td>\n",
       "      <td>54.790001</td>\n",
       "      <td>55.639999</td>\n",
       "      <td>53.940800</td>\n",
       "      <td>54.744492</td>\n",
       "      <td>49.048676</td>\n",
       "      <td>1.891660e+07</td>\n",
       "      <td>0.000000</td>\n",
       "      <td>0.013321</td>\n",
       "    </tr>\n",
       "    <tr>\n",
       "      <th>75%</th>\n",
       "      <td>2023-09-29 00:00:00</td>\n",
       "      <td>107.230003</td>\n",
       "      <td>108.108543</td>\n",
       "      <td>106.000000</td>\n",
       "      <td>107.139999</td>\n",
       "      <td>101.006538</td>\n",
       "      <td>3.372910e+07</td>\n",
       "      <td>0.008703</td>\n",
       "      <td>0.016804</td>\n",
       "    </tr>\n",
       "    <tr>\n",
       "      <th>max</th>\n",
       "      <td>2024-12-30 00:00:00</td>\n",
       "      <td>194.089996</td>\n",
       "      <td>194.800003</td>\n",
       "      <td>192.199997</td>\n",
       "      <td>194.229996</td>\n",
       "      <td>193.553955</td>\n",
       "      <td>2.301539e+08</td>\n",
       "      <td>0.124455</td>\n",
       "      <td>0.053186</td>\n",
       "    </tr>\n",
       "    <tr>\n",
       "      <th>std</th>\n",
       "      <td>NaN</td>\n",
       "      <td>40.093424</td>\n",
       "      <td>40.423717</td>\n",
       "      <td>39.772044</td>\n",
       "      <td>40.105432</td>\n",
       "      <td>39.803658</td>\n",
       "      <td>2.174849e+07</td>\n",
       "      <td>0.016003</td>\n",
       "      <td>0.006403</td>\n",
       "    </tr>\n",
       "  </tbody>\n",
       "</table>\n",
       "</div>"
      ],
      "text/plain": [
       "                                Date         Open         High          Low  \\\n",
       "count                           6285  6285.000000  6285.000000  6285.000000   \n",
       "mean   2022-06-30 22:13:27.637231616    70.859646    71.633860    70.083927   \n",
       "min              2020-01-02 00:00:00    19.260000    19.670000    17.950001   \n",
       "25%              2021-04-01 00:00:00    36.736244    37.096775    36.200001   \n",
       "50%              2022-06-30 00:00:00    54.790001    55.639999    53.940800   \n",
       "75%              2023-09-29 00:00:00   107.230003   108.108543   106.000000   \n",
       "max              2024-12-30 00:00:00   194.089996   194.800003   192.199997   \n",
       "std                              NaN    40.093424    40.423717    39.772044   \n",
       "\n",
       "             Close    Adj Close        Volume  Daily_Return   Volatility  \n",
       "count  6285.000000  6285.000000  6.285000e+03   6285.000000  6190.000000  \n",
       "mean     70.862243    66.780416  2.342256e+07      0.000011     0.014758  \n",
       "min      18.080000    15.967170  3.404000e+05     -0.096048     0.005098  \n",
       "25%      36.660000    33.069237  6.228788e+06     -0.008519     0.010613  \n",
       "50%      54.744492    49.048676  1.891660e+07      0.000000     0.013321  \n",
       "75%     107.139999   101.006538  3.372910e+07      0.008703     0.016804  \n",
       "max     194.229996   193.553955  2.301539e+08      0.124455     0.053186  \n",
       "std      40.105432    39.803658  2.174849e+07      0.016003     0.006403  "
      ]
     },
     "execution_count": 20,
     "metadata": {},
     "output_type": "execute_result"
    }
   ],
   "source": [
    "# Review basic descriptive statistics for columns\n",
    "df.describe()"
   ]
  },
  {
   "cell_type": "code",
   "execution_count": 21,
   "id": "b26bf158-103a-43e5-8544-bb804d7f1c2b",
   "metadata": {},
   "outputs": [
    {
     "data": {
      "text/plain": [
       "(array(['YUM', 'BAC', 'GE', 'XOM', 'PFE'], dtype=object),\n",
       " array(['Consumer Discretionary', 'Financials', 'Industrials', 'Energy',\n",
       "        'Healthcare'], dtype=object))"
      ]
     },
     "execution_count": 21,
     "metadata": {},
     "output_type": "execute_result"
    }
   ],
   "source": [
    "# Verify unique stocks and sectors included in the data\n",
    "df['Ticker'].unique(), df['Sector'].unique()"
   ]
  },
  {
   "cell_type": "code",
   "execution_count": 22,
   "id": "3c294e5e-08ba-4589-bd6f-38e621e1cb31",
   "metadata": {},
   "outputs": [
    {
     "data": {
      "text/plain": [
       "(Timestamp('2020-01-02 00:00:00'), Timestamp('2024-12-30 00:00:00'))"
      ]
     },
     "execution_count": 22,
     "metadata": {},
     "output_type": "execute_result"
    }
   ],
   "source": [
    "# Confirm date range of the dataset\n",
    "df['Date'].min(), df['Date'].max()"
   ]
  },
  {
   "cell_type": "markdown",
   "id": "bc77a225-41e0-4e6f-9dfa-faa23233548c",
   "metadata": {},
   "source": [
    "#### Observations:\n",
    "- This dataset has 6285 rows and 11 columns.\n",
    "- All columns are there and 'date' column is in datetime format.\n",
    "- Stocks included: YUM, BAC, GE, XOM, PFE\n",
    "- Sectors included: Consumer Discretionary, Financials, Industrials, Energy, Healthcare.\n",
    "- Date ranges from January 1, 2020 to December 31, 2024"
   ]
  },
  {
   "cell_type": "markdown",
   "id": "4d264fac-e5b1-4ae2-a5ec-a82de259f4f0",
   "metadata": {},
   "source": [
    "## 4. Data Visualization\n",
    "\n",
    "### 4.1 Trend Analysis  \n",
    "We will:\n",
    "- Visualize the closing price trends over time for each stock using line charts.\n",
    "- Observe overall trends, growth, or declines during the selected time period.\n",
    "\n",
    "### 4.2 Distribution & Variability  \n",
    "We will:\n",
    "- Use a histogram to visualize the distribution of daily returns across all stocks combined, identifying the overall shape, skewness, and presence of extreme returns.\n",
    "- Use a boxplot to compare daily return variability by stock, highlighting which stocks show wider daily return spreads and more outliers.\n",
    "- Use a boxplot of volatility by stock to compare long-term risk profiles, identifying which stocks exhibit higher sustained volatility levels over time.\n",
    "\n",
    "### 4.3 Segment or Category Comparisons  \n",
    "We will:\n",
    "- Compare key risk and return metrics by sector to observe which sectors are generally more volatile or stable.\n",
    "- Use bar charts to compare average daily return and average volatility by sector, providing a high-level view of sector performance and risk.\n",
    "\n",
    "These comparisons will help us understand which sectors displayed higher resilience or risk during the 2020–2024 period, supporting broader investment insights.\n",
    "\n",
    "### 4.4 COVID-19 Crash (March 2020) Analysis\n",
    "We will:\n",
    "- Analyze the stock performance during the initial COVID-19 crash (March 2020).\n",
    "- Calculate the % change in closing price for each stock during March 2020.\n",
    "- This offers insights into stock and sector resilience during periods of extreme market stress.\n"
   ]
  },
  {
   "cell_type": "markdown",
   "id": "35e4b994-d927-446c-9dc8-f1126d353c62",
   "metadata": {},
   "source": [
    "![Stock Closing Price Trends (2020-2024)](../visuals/closing_trends.png)"
   ]
  },
  {
   "cell_type": "code",
   "execution_count": 40,
   "id": "b1d5a1e6-5b47-4f04-adf7-f5924fb1e702",
   "metadata": {},
   "outputs": [],
   "source": [
    "# Line chart displaying the closing price trends over time for each stock\n",
    "plt.figure(figsize=(12,6))\n",
    "\n",
    "# Plot each ticker\n",
    "for ticker in df['Ticker'].unique():\n",
    "    subset = df[df['Ticker'] == ticker]\n",
    "    plt.plot(subset['Date'], subset['Close'], label=ticker)\n",
    "\n",
    "plt.title('Stock Closing Price Trends (2020-2024)')\n",
    "plt.xlabel('Date')\n",
    "plt.ylabel('Closing Price')\n",
    "plt.legend()\n",
    "plt.savefig(r'C:\\Users\\Stuer\\OneDrive\\Professional\\Stock_Performance_Volatility_Analysis\\visuals\\closing_trends.png', bbox_inches='tight')\n",
    "plt.close()"
   ]
  },
  {
   "cell_type": "markdown",
   "id": "a19e4479-408b-4aa5-89fd-11e8c5c05020",
   "metadata": {},
   "source": [
    "![Distribution of Daily Returns (All Stocks)](../visuals/daily_return_histogram.png)"
   ]
  },
  {
   "cell_type": "code",
   "execution_count": 43,
   "id": "850e65dd-928a-44a4-8f17-c996b536a767",
   "metadata": {},
   "outputs": [],
   "source": [
    "# Histogram of daily returns for all stocks combined\n",
    "plt.figure(figsize=(10,6))\n",
    "plt.hist(df['Daily_Return'], bins=50, edgecolor='black')\n",
    "plt.title('Distribution of Daily Returns (All Stocks)')\n",
    "plt.xlabel('Daily Return')\n",
    "plt.ylabel('Frequency')\n",
    "plt.savefig(r'C:\\Users\\Stuer\\OneDrive\\Professional\\Stock_Performance_Volatility_Analysis\\visuals\\daily_return_histogram.png', bbox_inches='tight')\n",
    "plt.close()"
   ]
  },
  {
   "cell_type": "markdown",
   "id": "c8aff2de-37bf-49d6-86e2-4dc364d764a3",
   "metadata": {},
   "source": [
    "![Daily Return Variability by Stock](../visuals/daily_return_boxplot.png)"
   ]
  },
  {
   "cell_type": "code",
   "execution_count": 49,
   "id": "c6367d3e-5680-4f4b-b698-f0b1c29768e6",
   "metadata": {},
   "outputs": [],
   "source": [
    "# Boxplot of daily return variability by stock\n",
    "plt.figure(figsize=(10,6))\n",
    "sns.boxplot(x='Ticker', y='Daily_Return', data=df)\n",
    "plt.title('Daily Return Variability by Stock')\n",
    "plt.xlabel('Stock')\n",
    "plt.ylabel('Daily Return')\n",
    "plt.savefig(r'C:\\Users\\Stuer\\OneDrive\\Professional\\Stock_Performance_Volatility_Analysis\\visuals\\daily_return_boxplot.png', bbox_inches='tight')\n",
    "plt.close()"
   ]
  },
  {
   "cell_type": "markdown",
   "id": "e71496f8-6635-4c6d-b591-1b1c32c37e01",
   "metadata": {},
   "source": [
    "![Volatility by Stock](../visuals/volatility_boxplot.png)"
   ]
  },
  {
   "cell_type": "code",
   "execution_count": 55,
   "id": "b78c046a-00a9-4e0e-9f3f-7b44b79a781f",
   "metadata": {},
   "outputs": [],
   "source": [
    "# Boxplot of volatility by stock\n",
    "plt.figure(figsize=(10,6))\n",
    "sns.boxplot(x='Ticker', y='Volatility', data=df)\n",
    "plt.title('Volatility by Stock')\n",
    "plt.xlabel('Stock')\n",
    "plt.ylabel('Volatility')\n",
    "plt.savefig(r'C:\\Users\\Stuer\\OneDrive\\Professional\\Stock_Performance_Volatility_Analysis\\visuals\\volatility_boxplot.png', bbox_inches='tight')\n",
    "plt.close()"
   ]
  },
  {
   "cell_type": "markdown",
   "id": "21af96f3-99fc-4dd1-963c-e11e122cf97a",
   "metadata": {},
   "source": [
    "![Average Daily Return by Sector](../visuals/avg_daily_return_by_sector.png)"
   ]
  },
  {
   "cell_type": "code",
   "execution_count": 57,
   "id": "8e15cc47-2423-4b7b-be37-17903912a991",
   "metadata": {},
   "outputs": [],
   "source": [
    "# Bar chart of average daily return by sector\n",
    "plt.figure(figsize=(8,6))\n",
    "df.groupby('Sector')['Daily_Return'].mean().sort_values().plot(kind='bar')\n",
    "plt.title('Average Daily Return by Sector (2020-2024)')\n",
    "plt.xlabel('Sector')\n",
    "plt.ylabel('Average Daily Return')\n",
    "plt.xticks(rotation=45)\n",
    "plt.savefig(r'C:\\Users\\Stuer\\OneDrive\\Professional\\Stock_Performance_Volatility_Analysis\\visuals\\avg_daily_return_by_sector.png', bbox_inches='tight')\n",
    "plt.close()"
   ]
  },
  {
   "cell_type": "markdown",
   "id": "83aa7f42-89e5-43dc-9571-16f37c054ca3",
   "metadata": {},
   "source": [
    "![Average Volatility by Sector](../visuals/avg_volatility_by_sector.png)"
   ]
  },
  {
   "cell_type": "code",
   "execution_count": 59,
   "id": "b8d0f70f-829d-471f-a94c-71a875197201",
   "metadata": {},
   "outputs": [],
   "source": [
    "# Bar chart of average volatility by sector\n",
    "plt.figure(figsize=(8,6))\n",
    "df.groupby('Sector')['Volatility'].mean().sort_values().plot(kind='bar')\n",
    "plt.title('Average Volatility by Sector (2020-2024)')\n",
    "plt.xlabel('Sector')\n",
    "plt.ylabel('Average Volatility')\n",
    "plt.xticks(rotation=45)\n",
    "plt.savefig(r'C:\\Users\\Stuer\\OneDrive\\Professional\\Stock_Performance_Volatility_Analysis\\visuals\\avg_volatility_by_sector.png', bbox_inches='tight')\n",
    "plt.close()"
   ]
  },
  {
   "cell_type": "code",
   "execution_count": 85,
   "id": "8e187e50-07a6-4762-a7a3-84dfc268d515",
   "metadata": {},
   "outputs": [
    {
     "name": "stdout",
     "output_type": "stream",
     "text": [
      "         first    last  % Change\n",
      "Ticker                          \n",
      "BAC      35.64   43.91     23.20\n",
      "GE       59.46  168.10    182.71\n",
      "PFE      37.13   26.42    -28.85\n",
      "XOM      70.90  105.76     49.17\n",
      "YUM     102.17  133.52     30.68\n"
     ]
    }
   ],
   "source": [
    "# Calculate % growth in closing price from first to last date per ticker\n",
    "price_growth = df.groupby('Ticker')['Close'].agg(['first', 'last'])\n",
    "price_growth['% Change'] = ((price_growth['last'] - price_growth['first']) / price_growth['first']) * 100\n",
    "price_growth = price_growth.round(2)\n",
    "\n",
    "print(price_growth)\n"
   ]
  },
  {
   "cell_type": "code",
   "execution_count": 87,
   "id": "0982de8c-1aef-4492-bc93-48f1ff04489a",
   "metadata": {},
   "outputs": [
    {
     "name": "stdout",
     "output_type": "stream",
     "text": [
      "\n",
      "COVID-19 Crash Period Growth (March 2020):\n",
      "        first   last  % Change\n",
      "Ticker                        \n",
      "BAC     29.37  21.23    -27.72\n",
      "GE      55.87  39.57    -29.17\n",
      "PFE     33.09  30.97     -6.42\n",
      "XOM     53.88  37.97    -29.53\n",
      "YUM     92.53  68.53    -25.94\n"
     ]
    }
   ],
   "source": [
    "# Calculate % change in closing price during COVID-19 crash (March 2020 only)\n",
    "march_2020 = df[(df['Date'] >= '2020-03-01') & (df['Date'] <= '2020-03-31')]\n",
    "march_growth = march_2020.groupby('Ticker')['Close'].agg(['first', 'last'])\n",
    "march_growth['% Change'] = ((march_growth['last'] - march_growth['first']) / march_growth['first']) * 100\n",
    "march_growth = march_growth.round(2)\n",
    "\n",
    "print(\"\\nCOVID-19 Crash Period Growth (March 2020):\")\n",
    "print(march_growth)"
   ]
  },
  {
   "cell_type": "markdown",
   "id": "5a67fe15-9c0f-4788-9782-ab2306d16166",
   "metadata": {},
   "source": [
    "## 5. Key Insights & Recommendations\n",
    "\n",
    "| Observation            | Implication                               | Recommendation                                   |\n",
    "|------------------------|-------------------------------------------|--------------------------------------------------|\n",
    "| GE (+182.71%) and XOM (+49.17) showed the strongest price growth from 2020 to 2024.   | This suggests long-term growth, especially during later periods. | May be considered for growth-oriented portfolios if current momentum persists. |\n",
    "| Healthcare had the lowest average daily return across all sectors.    | This sector underperformed compared to others over the analysis period. | This finding suggests the Healthcare sector may warrant closer review before considering any allocations. |\n",
    "| Industrials and Energy sectors showed the highest average volatility  | These sectors are going to have more day-to-day risk and unpredictability. | Investors with lower risk tolerance might consider limiting exposure, particularly during periods of market volatility. |\n",
    "| During the March 2020 COVID-19 crash, XOM (-29.53%), GE (-29.17%), and BAC (-27.72%) suffered the steepest declines. | Energy, Industrials, and Financials were highly sensitive to the COVID-19 market shock. | These sectors may be more vulnerable to macroeconomic shocks and require closer monitoring during global events. |\n",
    "| PFE (-6.42%) was the most resilient stock during the March 2020 crash. | Healthcare showed defensive characteristics during the market downturn. | May be worth considering Healthcare stocks like PFE for diversification and downside protection in volatile periods. |"
   ]
  },
  {
   "cell_type": "markdown",
   "id": "547e9a28-bf3f-42e3-a613-98ca48917e62",
   "metadata": {},
   "source": [
    "## 6. Limitations\n",
    "\n",
    "- This analysis focuses only on historical stock data from 2020 to 2024 and does not incorporate forecasts or predictive modeling.\n",
    "- Volatility was calculated using a 20-day rolling standard deviation, which captures short-term variability but may not fully represent all risk factors.\n",
    "- The analysis does not include dividends, stock splits, or broader macroeconomic influences that may have impacted performance.\n",
    "- The dataset was limited to a select group of stocks and sectors and may not reflect broader market dynamics.\n",
    "- The COVID-19 analysis focused exclusively on the **initial crash phase (March 2020)** and did not examine the **entire pandemic period, including the recovery and post-crash performance**."
   ]
  }
 ],
 "metadata": {
  "kernelspec": {
   "display_name": "Python 3 (ipykernel)",
   "language": "python",
   "name": "python3"
  },
  "language_info": {
   "codemirror_mode": {
    "name": "ipython",
    "version": 3
   },
   "file_extension": ".py",
   "mimetype": "text/x-python",
   "name": "python",
   "nbconvert_exporter": "python",
   "pygments_lexer": "ipython3",
   "version": "3.12.7"
  }
 },
 "nbformat": 4,
 "nbformat_minor": 5
}
